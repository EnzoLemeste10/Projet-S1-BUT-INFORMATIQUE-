{
 "cells": [
  {
   "cell_type": "markdown",
   "metadata": {
    "deletable": false,
    "editable": false,
    "run_control": {
     "frozen": true
    }
   },
   "source": [
    "# <center> Etude de communautés dans un réseau social</center>\n",
    "<center> SAE 1.01 / 2024 - 25 </center>\n",
    "\n"
   ]
  },
  {
   "cell_type": "markdown",
   "metadata": {
    "deletable": false,
    "editable": false,
    "run_control": {
     "frozen": true
    }
   },
   "source": [
    "Cette SAE est à faire en **binôme**.\n",
    "\n",
    "**Calendrier**\n",
    "- Un contrôle de 2h en lien avec le contenu de cette SAE aura lieu le mercredi **30 octobre** 2024.\n",
    "- Le projet est à rendre le mardi **29 octobre** 2024. Les modalités de rendu vous seront précisées par votre enseignant.\n",
    "\n",
    "**Evaluation**\n",
    "- Le projet comptera pour 40% de la note de SAE 1.01. <BR>\n",
    "    Il sera particulièrement tenu compte de la qualité du code, des **commentaires** et **docstrings**, des fonctions de **tests unitaires** pour les fonctions renvoyant des résultats. <BR><BR>\n",
    "    \n",
    "- Le contrôle compte pour 60% de la note finale."
   ]
  },
  {
   "cell_type": "markdown",
   "metadata": {
    "deletable": false,
    "editable": false,
    "run_control": {
     "frozen": true
    }
   },
   "source": [
    "## <center> Sujet </center>\n",
    "\n",
    "Une *communauté* est un ensemble de personnes développant des interactions dans un réseau social.\n",
    "\n",
    "Dans ce projet, on étudie des communautés modélisées sous différentes formes. Pour cela, on développe des fonctions permettant d'extraire des informations relatives à ces réseaux. "
   ]
  },
  {
   "cell_type": "markdown",
   "metadata": {
    "deletable": false,
    "editable": false,
    "run_control": {
     "frozen": true
    }
   },
   "source": [
    "On modélise, dans un premier temps, les interactions entre personnes dans un tableau `amis` de chaînes de caractères contenant les prénoms des membres du réseau et tel que `amis[2*i]` a des interactions avec `amis[2*i+1]`.\n",
    "\n",
    "On suppose que chaque interaction n'est décrite qu'une seule fois dans le tableau, et qu'une personne n'a pas d'interaction avec elle-même.\n",
    "\n",
    "**Exemple** : "
   ]
  },
  {
   "cell_type": "code",
   "execution_count": 4,
   "metadata": {
    "deletable": false,
    "editable": false
   },
   "outputs": [],
   "source": [
    "amis = [\"Alice\", \"Bob\", \"Alice\", \"Charlie\", \"Bob\", \"Denis\"]"
   ]
  },
  {
   "cell_type": "markdown",
   "metadata": {
    "deletable": false,
    "editable": false,
    "run_control": {
     "frozen": true
    }
   },
   "source": [
    "Ici, \n",
    "- Alice a des interactions Bob et Charlie, \n",
    "- Bob a des intractions avec Alice et Denis,\n",
    "- Charlie a des interactions avec Alice,\n",
    "- Denis a des interactions avec Bob."
   ]
  },
  {
   "cell_type": "markdown",
   "metadata": {
    "deletable": false,
    "editable": false,
    "run_control": {
     "frozen": true
    }
   },
   "source": [
    "#### Question préliminaire : Modélisation d'un réseau par un tableau\n",
    "\n",
    "Muriel, Yasmine et Joël sont amis. Yasmine est amie avec Thomas. \n",
    "Joël, Nassim, Andrea et Ali sont amis. Thomas est ami de Daria et Carole. Thierry, Axel et Léo sont amis. Léo est ami de Valentin qui est ami d'Andrea.\n",
    "\n",
    "- Construire un tableau `p_amis` qui modélise ce réseau d'amitié en selon le principe qui vient d'être décrit."
   ]
  },
  {
   "cell_type": "code",
   "execution_count": 75,
   "metadata": {},
   "outputs": [
    {
     "name": "stdout",
     "output_type": "stream",
     "text": [
      "['Muriel', 'Yasmine', 'Yasmine', 'Joël', 'Joël', 'Muriel', 'Yasmine', 'Thomas', 'Joël', 'Nassim', 'Joël', 'Andrea', 'Joël', 'Ali', 'Nassim', 'Andrea', 'Nassim', 'Ali', 'Andrea', 'Ali', 'Thomas', 'Daria', 'Thomas', 'Carole', 'Daria', 'Carole', 'Thierry', 'Axel', 'Thierry', 'Léo', 'Axel', 'Léo', 'Léo', 'Valentin', 'Valentin', 'Andrea']\n"
     ]
    }
   ],
   "source": [
    "#Creation d'un tableau p_amis suivant le modèle de l'énoncé\n",
    "\"\"\"\n",
    "p_amis: list\n",
    "\"\"\"\n",
    "p_amis=[\"Muriel\",\"Yasmine\",\"Yasmine\",\"Joël\",\"Joël\",\"Muriel\",\"Yasmine\",\"Thomas\",\"Joël\",\"Nassim\",\"Joël\",\"Andrea\",\"Joël\",\"Ali\",\"Nassim\",\"Andrea\",\"Nassim\",\"Ali\",\"Andrea\",\"Ali\",\"Thomas\",\"Daria\",\"Thomas\",\"Carole\",\"Daria\",\"Carole\",\"Thierry\",\"Axel\",\"Thierry\",\"Léo\",\"Axel\",\"Léo\",\"Léo\",\"Valentin\",\"Valentin\",\"Andrea\"]\n",
    "\n",
    "print(p_amis)"
   ]
  },
  {
   "cell_type": "markdown",
   "metadata": {
    "deletable": false,
    "editable": false,
    "run_control": {
     "frozen": true
    }
   },
   "source": [
    "#### Question 1 : Nombre d'amis d'une personne\n",
    "\n",
    "- Étant donné un tableau `amis`, écrire une fonction `nb_amis(amis, prenom)` qui retourne le nombre d'amis de `prenom` à partir des données du tableau `amis`. "
   ]
  },
  {
   "cell_type": "code",
   "execution_count": 80,
   "metadata": {},
   "outputs": [
    {
     "name": "stdout",
     "output_type": "stream",
     "text": [
      "3\n"
     ]
    }
   ],
   "source": [
    "\"\"\"\"\n",
    "Argument:\n",
    "    amis: str\n",
    "    prenom: str\n",
    "Retourne:\n",
    "    nbamis: int\n",
    "\"\"\"\n",
    "#Création d'une fonction nb_amis qui prend en paramètre amis et prénom\n",
    "def nb_amis(amis,prenom):\n",
    "    #iniatialisation d'une variable nbamis\n",
    "    nbamis=0\n",
    "    #creation d'une boucle while qui compte le nombre de fois (nbamis)où le parametre \"prenom est dans le tableau \n",
    "    #\"amis\"\n",
    "    i=0\n",
    "    while i<len(amis):\n",
    "        if amis[i]==prenom:\n",
    "            nbamis+=1\n",
    "        i=i+1\n",
    "    return nbamis\n",
    "#on affiche ensuite nbamis\n",
    "print(nb_amis(p_amis,\"Thomas\"))\n",
    "\n",
    "def test_nb_amis():\n",
    "    assert nb_amis(amis,\"Thomas\") == 3\n",
    "    assert nb_amis(amis,\"Yasmine\") != 5\n",
    "    assert nb_amis(amis,\"Joël\")==5\n",
    "\n",
    "test_nb_amis()\n"
   ]
  },
  {
   "cell_type": "markdown",
   "metadata": {
    "deletable": false,
    "editable": false,
    "run_control": {
     "frozen": true
    }
   },
   "source": [
    "#### Question 2 : Nombre de membres d'un réseau social \n",
    "\n",
    "- Ecrire une fonction `taille_reseau(amis)` qui à partir d'un tableau `amis`retourne le nombre de personnes distinctes participant à ce réseau social."
   ]
  },
  {
   "cell_type": "code",
   "execution_count": 81,
   "metadata": {},
   "outputs": [
    {
     "name": "stdout",
     "output_type": "stream",
     "text": [
      "13\n"
     ]
    }
   ],
   "source": [
    "\"\"\"\n",
    "Argument:\n",
    "    amis: tab\n",
    "retourne:\n",
    "    len(tab): str\n",
    "\"\"\"\n",
    "#creation d'une fonction taille_reseau prenant en parametre \"amis\"\n",
    "def taille_reseau(amis):\n",
    "    #initialisation d'un tableau  vide 'tab'\n",
    "    i = 0\n",
    "    tab = []\n",
    "    #creation d'une boucle while qui compte le nombre d'éléments dans le tableau \"amis\"\n",
    "    while i < len(amis):\n",
    "        ami = amis[i]\n",
    "        #condition qui permet d'éviter les doublons dans le tableau \"tab \" \n",
    "        if ami not in tab:\n",
    "            tab.append(ami)\n",
    "            i = i + 1\n",
    "        else:\n",
    "            i = i +1\n",
    "    #on retourne la taille de ce tableau\n",
    "    return len(tab)\n",
    "p_amis=[\"Muriel\",\"Yasmine\",\"Yasmine\",\"Joël\",\"Joël\",\"Muriel\",\"Yasmine\",\"Thomas\",\"Joël\",\"Nassim\",\"Joël\",\"Andrea\",\"Joël\",\"Ali\",\"Nassim\",\"Andrea\",\"Nassim\",\"Ali\",\"Andrea\",\"Ali\",\"Thomas\",\"Daria\",\"Thomas\",\"Carole\",\"Daria\",\"Carole\",\"Thierry\",\"Axel\",\"Thierry\",\"Léo\",\"Axel\",\"Léo\",\"Léo\",\"Valentin\",\"Valentin\",\"Andrea\"]\n",
    "\n",
    "print(taille_reseau(p_amis))\n",
    "\n",
    "def test_taille_reseau():\n",
    "    assert taille_reseau(amis)==13\n",
    "    assert taille_reseau(amis)!=12\n",
    "    \n",
    "\n"
   ]
  },
  {
   "cell_type": "markdown",
   "metadata": {
    "deletable": false,
    "editable": false,
    "run_control": {
     "frozen": true
    }
   },
   "source": [
    "#### Question 3 :  Lecture des données d'un réseau à partir d'un fichier\n",
    "On suppose que les données sur un réseau social sont stockées dans un fichier CSV de la manière suivante :\n",
    "```\n",
    "prenom1;prenom2\n",
    "prenom3;prenom4\n",
    "prenom5;prenom6\n",
    "...\n",
    "```\n",
    "Autrement dit, chaque ligne du fichier contient une paire de prénoms séparés par un `';'` correspondant à deux personnes ayant des interactions. \n",
    "\n",
    "**NB** : Quatre fichiers CSV de ce type sont fournis dans le répertoire `files/`, il s'agit des fichiers`Communaute1.csv`, `Communaute2.csv`,`Communaute3.csv` et `Communaute4.csv`. \n",
    "Il est recommandé d'en fabriquer d'autres. \n",
    "\n",
    "- Ecrire une fonction `lecture_reseau(path)` prenant en paramètre un chemin vers un tel fichier CSV et retournant un tableau modélisant les interactions entre les personnes du fichier."
   ]
  },
  {
   "cell_type": "code",
   "execution_count": 82,
   "metadata": {},
   "outputs": [
    {
     "name": "stdout",
     "output_type": "stream",
     "text": [
      "[['Mady', 'Zayneb'], ['Honorata', 'Iagan'], ['Cain', 'Satchel'], ['Honorata', 'Petru'], ['Damhnait', 'Áron'], ['Aimee', 'Kirsa'], ['Chatzkel', 'Liesa'], ['Idelle', 'Keith'], ['Lizzy', 'Vittorio'], ['Gaétan', 'Salomão'], ['Björn', 'Grwn'], ['Amadeo', 'Cloe'], ['Grwn', 'Pavao'], ['Hagir', 'Ramsay'], ['Gaétan', 'Liesa'], ['Damhnait', 'Vittore'], ['Hagir', 'Imane'], ['Dragan', 'Mireille'], ['Despoina', 'Gawel'], ['Phuong', 'Ramsay'], ['Argus', 'Dragan'], ['Cameron', 'Mélanie'], ['Barbra', 'Louis'], ['Lujayn', 'Séléna'], ['Dragan', 'Évike'], ['Barbra', 'Dragan'], ['Barbra', 'Glenys'], ['Sabino', 'Shayla'], ['Bridger', 'Glenys'], ['Honorata', 'Mireille'], ['Duff', 'Ixchel'], ['Cloe', 'Louis'], ['Olavi', 'Vibol'], ['Christ', 'Gaétan'], ['Duff', 'Ramsay'], ['Mireille', 'Phuong'], ['Gergõ', 'Glenys'], ['Pavao', 'Yassin'], ['Lizzy', 'Mélanie'], ['Despoina', 'Marwa'], ['Illtyd', 'Lizzy'], ['Finn', 'Placide'], ['Giedrius', 'Vibol'], ['Gawel', 'Iagan'], ['Despoina', 'Stéphanie'], ['Howell', 'Olavi'], ['Keld', 'Mady'], ['Montserrat', 'Silviu'], ['Ixchel', 'Shayla'], ['Grwn', 'Illtyd'], ['Louis', 'Placide'], ['Chatzkel', 'Shirine'], ['Iagan', 'Phuong'], ['Amadeo', 'Glenys'], ['Jakob', 'Lizzy'], ['Cain', 'Gawel'], ['Keld', 'Lalie'], ['Draco', 'Gawel'], ['Imane', 'Ixchel'], ['Hagir', 'Pavao'], ['Aliya', 'Zayneb'], ['Gaétan', 'Olavi'], ['Argus', 'Satchel'], ['Imane', 'Ágoston'], ['Lizzy', 'Shayla'], ['Glenys', 'Séléna'], ['Cain', 'Olavi'], ['Dragan', 'Imane'], ['Edmonda', 'Sabino'], ['Marwa', 'Séléna'], ['Liesa', 'Marwa'], ['Hagir', 'Simo'], ['Ambrogio', 'Gaétan'], ['Aimee', 'Honorata'], ['Naheed', 'Shayla'], ['Amadeo', 'Damhnait'], ['Dany', 'Mady'], ['Björn', 'Évike'], ['Dragan', 'Salomão'], ['Björn', 'Vittore'], ['Petru', 'Shayla'], ['Aliya', 'Áron'], ['Eliezer', 'Glenys'], ['Christ', 'Gawel'], ['Kirsa', 'Papillion'], ['Gaétan', 'Sabino'], ['Björn', 'Dany'], ['Barbra', 'Christ'], ['Christ', 'Vibol'], ['Jakob', 'Ziva'], ['Glenys', 'Imane'], ['Christ', 'Dany'], ['Gergõ', 'Édouard'], ['Barbra', 'Natasa'], ['Emmy', 'Stéphanie'], ['Christ', 'Iagan'], ['Björn', 'Gergõ'], ['Lalie', 'Salomão'], ['Aimee', 'Imane'], ['Gordon', 'Natasa'], ['Ixchel', 'Menashe'], ['Aimee', 'Menashe'], ['Argus', 'Duff'], ['Draco', 'Gordon'], ['Amadeo', 'Phuong'], ['Gawel', 'Évike'], ['Aimee', 'Finn'], ['Silviu', 'Stéphanie'], ['Christ', 'Vittore'], ['Iagan', 'Pavao'], ['Keith', 'Naheed'], ['Barbra', 'Grwn'], ['Cloe', 'Illtyd'], ['Glenys', 'Idelle'], ['Damhnait', 'Placide'], ['Mady', 'Placide'], ['Edmonda', 'Epaphroditos'], ['Draco', 'Epaphroditos'], ['Chatzkel', 'Keith'], ['Emmy', 'Griffith'], ['Gawel', 'Gaétan'], ['Jacaline', 'Keld'], ['Menashe', 'Placide'], ['Faizel', 'Imane'], ['Keld', 'Mélanie'], ['Emmy', 'Imane'], ['Björn', 'Illtyd'], ['Olavi', 'Petru'], ['Finn', 'Lujayn'], ['Gordon', 'Ixchel'], ['Pavao', 'Ziva'], ['Dragan', 'Edmonda'], ['Cloe', 'Liesa'], ['Ziva', 'Áron'], ['Lalie', 'Silviu'], ['Cowal', 'Edmonda'], ['Jakob', 'Vittorio'], ['Damhnait', 'Gawel'], ['Faizel', 'Lizzy'], ['Cardea', 'Séverin'], ['Ixchel', 'Séléna'], ['Christ', 'Séléna'], ['Duff', 'Grwn'], ['Ramsay', 'Vibol'], ['Petru', 'Phuong'], ['Amadeo', 'Faizel'], ['Ambrogio', 'Petru'], ['Lujayn', 'Rufino'], ['Jari', 'Lizzy'], ['Honorata', 'Menashe'], ['Kirsa', 'Petru'], ['Dany', 'Pavao'], ['Phuong', 'Vittorio'], ['Pavao', 'Vittore'], ['Lujayn', 'Silviu'], ['Emmy', 'Shirine'], ['Chatzkel', 'Dany'], ['Glenys', 'Zayneb'], ['Imane', 'Simo'], ['Gordon', 'Séléna'], ['Idelle', 'Imane'], ['Argus', 'Epaphroditos'], ['Amadeo', 'Draco'], ['Dragan', 'Keith'], ['Ixchel', 'Mireille'], ['Eliezer', 'Ágoston'], ['Dany', 'Vittore'], ['Petru', 'Sabino'], ['Rufino', 'Vittorio'], ['Keith', 'Sabino'], ['Natasa', 'Papillion'], ['Edmonda', 'Natasa'], ['Isolde', 'Lizzy'], ['Duff', 'Glenys'], ['Spiridon', 'Édouard'], ['Dany', 'Draco'], ['Ambrogio', 'Faizel'], ['Mady', 'Yassin'], ['Cain', 'Hagir'], ['Iagan', 'Stéphanie'], ['Cain', 'Vibol'], ['Epaphroditos', 'Gaétan'], ['Christ', 'Glenys'], ['Aïcha', 'Dragan'], ['Aïcha', 'Isolde'], ['Menashe', 'Shirine'], ['Aïcha', 'Epaphroditos'], ['Aïcha', 'Gawel'], ['Chatzkel', 'Kirsa'], ['Glenys', 'Jakob'], ['Björn', 'Honorata'], ['Mélanie', 'Placide'], ['Ilies', 'Séverin'], ['Gergõ', 'Gordon'], ['Aimee', 'Louis'], ['Idelle', 'Natasa'], ['Ambrogio', 'Liesa'], ['Kirsa', 'Olavi'], ['Gawel', 'Hagir'], ['Mady', 'Séléna'], ['Cain', 'Papillion'], ['Mireille', 'Salomão'], ['Ilies', 'Petru'], ['Epaphroditos', 'Glenys'], ['Cain', 'Dragan'], ['Cain', 'Epaphroditos'], ['Mireille', 'Stéphanie'], ['Bridger', 'Mireille'], ['Séléna', 'Vittore'], ['Aimee', 'Spiridon'], ['Amadeo', 'Ambrogio'], ['Argus', 'Évike'], ['Liesa', 'Pavao'], ['Lizzy', 'Salomão'], ['Emmy', 'Évike'], ['Gordon', 'Illtyd'], ['Dragan', 'Vibol'], ['Illtyd', 'Salomão'], ['Edmonda', 'Liesa'], ['Mady', 'Natasa'], ['Gawel', 'Papillion'], ['Aimee', 'Lujayn'], ['Cain', 'Séléna'], ['Glenys', 'Keld'], ['Faizel', 'Áron'], ['Björn', 'Silviu'], ['Ambrogio', 'Placide'], ['Houda', 'Shirine'], ['Aïcha', 'Olavi'], ['Placide', 'Shayla'], ['Barbra', 'Vittore'], ['Dragan', 'Satchel'], ['Illtyd', 'Louis'], ['Menashe', 'Spiridon'], ['Barbra', 'Évike'], ['Iagan', 'Zayneb'], ['Argus', 'Papillion'], ['Gawel', 'Olavi'], ['Emmy', 'Áron'], ['Aimee', 'Howell'], ['Placide', 'Vibol'], ['Petru', 'Silviu'], ['Cain', 'Mady'], ['Epaphroditos', 'Mireille'], ['Dany', 'Montserrat'], ['Chatzkel', 'Emmy'], ['Damhnait', 'Ágoston'], ['Petru', 'Ziva'], ['Dragan', 'Emmy'], ['Olavi', 'Séléna'], ['Lilas', 'Mady'], ['Faizel', 'Papillion'], ['Hagir', 'Mireille'], ['Chatzkel', 'Draco'], ['Bridger', 'Dany'], ['Faizel', 'Spiridon'], ['Chatzkel', 'Shayla'], ['Ambrogio', 'Aïcha'], ['Faizel', 'Ziva'], ['Argus', 'Ramsay'], ['Chatzkel', 'Zayneb'], ['Barbra', 'Idelle'], ['Lujayn', 'Spiridon'], ['Draco', 'Rufino'], ['Damhnait', 'Grwn'], ['Jacaline', 'Séléna'], ['Dragan', 'Petru'], ['Grwn', 'Mady'], ['Menashe', 'Vittorio'], ['Nolann', 'Placide'], ['Finn', 'Séléna'], ['Placide', 'Vittorio'], ['Damhnait', 'Séléna'], ['Menashe', 'Séléna'], ['Idelle', 'Vittorio'], ['Mélanie', 'Salomão'], ['Nazim', 'Évike'], ['Bridger', 'Shayla'], ['Christ', 'Jari'], ['Mady', 'Petru'], ['Kirsa', 'Sabino'], ['Lizzy', 'Ágoston'], ['Draco', 'Montserrat'], ['Vittore', 'Édouard'], ['Christ', 'Grwn'], ['Lalie', 'Vibol'], ['Keld', 'Vittore'], ['Grwn', 'Liesa'], ['Draco', 'Séverin'], ['Finn', 'Shayla'], ['Cloe', 'Pavao'], ['Imane', 'Placide'], ['Mélanie', 'Shirine'], ['Dany', 'Papillion'], ['Iagan', 'Nolann'], ['Barbra', 'Illtyd'], ['Hagir', 'Ixchel'], ['Christ', 'Ilies'], ['Christ', 'Silviu'], ['Hagir', 'Silviu'], ['Faizel', 'Keld'], ['Cowal', 'Honorata'], ['Iagan', 'Vittore'], ['Gaétan', 'Pavao'], ['Phuong', 'Ziva'], ['Christ', 'Évike'], ['Emmy', 'Epaphroditos'], ['Gaétan', 'Évike'], ['Silviu', 'Vibol'], ['Edmonda', 'Séléna'], ['Mireille', 'Évike'], ['Finn', 'Shirine'], ['Damhnait', 'Ixchel'], ['Nazim', 'Zayneb'], ['Silviu', 'Spiridon'], ['Björn', 'Gordon'], ['Bridger', 'Olavi'], ['Amadeo', 'Duff'], ['Damhnait', 'Draco'], ['Ambrogio', 'Howell'], ['Dany', 'Ágoston'], ['Petru', 'Vittore'], ['Honorata', 'Imane'], ['Christ', 'Édouard'], ['Jakob', 'Édouard'], ['Björn', 'Iagan'], ['Idelle', 'Pavao'], ['Illtyd', 'Shayla'], ['Montserrat', 'Mélanie'], ['Gaétan', 'Keld'], ['Pavao', 'Spiridon'], ['Damhnait', 'Jakob'], ['Aïcha', 'Shayla'], ['Chatzkel', 'Howell'], ['Ixchel', 'Jakob'], ['Amadeo', 'Mélanie'], ['Louis', 'Petru'], ['Barbra', 'Iagan'], ['Edmonda', 'Eliezer'], ['Glenys', 'Lujayn'], ['Imane', 'Stéphanie'], ['Montserrat', 'Simo'], ['Cain', 'Silviu'], ['Keith', 'Kirsa'], ['Idelle', 'Mireille'], ['Lizzy', 'Vittore'], ['Houda', 'Évike'], ['Cain', 'Petru'], ['Chatzkel', 'Édouard'], ['Gergõ', 'Howell'], ['Faizel', 'Lalie'], ['Sabino', 'Vittorio'], ['Cain', 'Jari'], ['Epaphroditos', 'Howell'], ['Louis', 'Évike'], ['Jakob', 'Louis'], ['Amadeo', 'Dragan'], ['Silviu', 'Simo'], ['Duff', 'Epaphroditos'], ['Lizzy', 'Vibol'], ['Dragan', 'Iagan'], ['Lalie', 'Sabino'], ['Aïcha', 'Lizzy'], ['Hagir', 'Sabino'], ['Ambrogio', 'Lalie'], ['Edmonda', 'Menashe'], ['Mélanie', 'Vittore'], ['Bridger', 'Vibol'], ['Louis', 'Naheed'], ['Amadeo', 'Aïcha'], ['Amadeo', 'Natasa'], ['Björn', 'Séléna'], ['Cameron', 'Dany'], ['Gawel', 'Menashe'], ['Aimee', 'Salomão'], ['Natasa', 'Évike'], ['Chatzkel', 'Giedrius'], ['Placide', 'Áron'], ['Olavi', 'Vittorio'], ['Isolde', 'Mady'], ['Imane', 'Mady'], ['Gordon', 'Vibol'], ['Duff', 'Silviu'], ['Cowal', 'Jakob'], ['Jakob', 'Olavi'], ['Imane', 'Phuong'], ['Aimee', 'Lalie'], ['Argus', 'Howell'], ['Lujayn', 'Shirine'], ['Gaétan', 'Édouard'], ['Argus', 'Edmonda'], ['Kirsa', 'Áron'], ['Draco', 'Ixchel'], ['Illtyd', 'Phuong'], ['Barbra', 'Mireille'], ['Ambrogio', 'Yassin'], ['Damhnait', 'Lizzy'], ['Illtyd', 'Spiridon'], ['Ixchel', 'Liesa'], ['Áron', 'Évike'], ['Aimee', 'Emmy'], ['Cloe', 'Hagir'], ['Bridger', 'Duff'], ['Sabino', 'Teodor'], ['Epaphroditos', 'Faizel'], ['Faizel', 'Gergõ'], ['Iagan', 'Liesa'], ['Cloe', 'Ixchel'], ['Epaphroditos', 'Vibol'], ['Dragan', 'Stéphanie'], ['Ambrogio', 'Pavao'], ['Damhnait', 'Ziva'], ['Chatzkel', 'Hagir'], ['Cameron', 'Hagir'], ['Lilas', 'Lujayn'], ['Gaétan', 'Vibol'], ['Howell', 'Lalie'], ['Hagir', 'Olavi'], ['Olavi', 'Édouard'], ['Duff', 'Illtyd'], ['Gawel', 'Imane'], ['Honorata', 'Howell'], ['Keith', 'Phuong'], ['Faizel', 'Rufino'], ['Chatzkel', 'Gordon'], ['Duff', 'Olavi'], ['Ixchel', 'Teodor'], ['Howell', 'Papillion'], ['Epaphroditos', 'Gergõ'], ['Cloe', 'Glenys'], ['Mireille', 'Ágoston'], ['Gawel', 'Rufino'], ['Aliya', 'Nazim'], ['Isolde', 'Shayla'], ['Papillion', 'Sabino'], ['Barbra', 'Mélanie'], ['Aimee', 'Cowal'], ['Keith', 'Pavao'], ['Eliezer', 'Montserrat'], ['Honorata', 'Papillion'], ['Björn', 'Imane'], ['Cain', 'Dany'], ['Imane', 'Mélanie'], ['Christ', 'Dragan'], ['Emmy', 'Lalie'], ['Papillion', 'Évike'], ['Cain', 'Vittorio'], ['Jari', 'Montserrat'], ['Satchel', 'Évike'], ['Honorata', 'Áron'], ['Kirsa', 'Mireille'], ['Cameron', 'Pavao'], ['Isolde', 'Petru'], ['Cardea', 'Áron'], ['Jakob', 'Silviu'], ['Cain', 'Lizzy'], ['Despoina', 'Mady'], ['Aliya', 'Christ'], ['Olavi', 'Áron'], ['Montserrat', 'Shayla'], ['Gergõ', 'Jari'], ['Spiridon', 'Séléna'], ['Lujayn', 'Olavi'], ['Lizzy', 'Rufino'], ['Ixchel', 'Petru'], ['Dany', 'Vibol'], ['Jakob', 'Ramsay'], ['Faizel', 'Yassin'], ['Hagir', 'Kirsa'], ['Phuong', 'Vittore'], ['Glenys', 'Isolde'], ['Montserrat', 'Édouard'], ['Björn', 'Rufino'], ['Keith', 'Rufino'], ['Grwn', 'Satchel'], ['Amadeo', 'Sevan'], ['Faizel', 'Finn'], ['Silviu', 'Séléna'], ['Gordon', 'Évike'], ['Barbra', 'Duff'], ['Glenys', 'Iagan'], ['Louis', 'Pavao'], ['Mady', 'Mireille'], ['Bridger', 'Montserrat'], ['Honorata', 'Pavao'], ['Ixchel', 'Placide'], ['Keith', 'Stéphanie'], ['Faizel', 'Illtyd'], ['Dragan', 'Nazim'], ['Satchel', 'Silviu'], ['Grwn', 'Mireille'], ['Liesa', 'Salomão'], ['Liesa', 'Petru'], ['Cain', 'Salomão'], ['Cain', 'Mélanie'], ['Jari', 'Sabino'], ['Chatzkel', 'Gawel'], ['Keith', 'Séverin'], ['Barbra', 'Áron'], ['Iagan', 'Jakob'], ['Ambrogio', 'Papillion'], ['Damhnait', 'Papillion'], ['Gawel', 'Lizzy'], ['Aimee', 'Epaphroditos'], ['Aïcha', 'Yassin'], ['Idelle', 'Naheed'], ['Liesa', 'Vibol'], ['Placide', 'Séléna'], ['Aimee', 'Keith'], ['Gergõ', 'Lizzy'], ['Damhnait', 'Sevan'], ['Emmy', 'Papillion'], ['Mireille', 'Rufino'], ['Iagan', 'Silviu'], ['Finn', 'Liesa'], ['Chatzkel', 'Damhnait'], ['Gordon', 'Lujayn'], ['Amadeo', 'Évike'], ['Griffith', 'Phuong'], ['Olavi', 'Shirine'], ['Duff', 'Rufino'], ['Duff', 'Placide'], ['Ilies', 'Placide']]\n"
     ]
    }
   ],
   "source": [
    "\"\"\"\n",
    "Argument:\n",
    "    path: str\n",
    "retourne:\n",
    "    tab2:list\n",
    "\"\"\"\n",
    "    \n",
    "#importation de la bibliothèque csv\n",
    "import csv\n",
    "#creation d'une fonction lecture_reseau prenant en parametre \"path\" (le chemin du fichier csv)\n",
    "def lecture_reseau(path):\n",
    "    #ouverture du fichier csv\n",
    "    f = open(path,'r',encoding ='utf-8')\n",
    "    #creation d'un tab à partir du fichier csv\n",
    "    tab = f.readlines()\n",
    "    #iniatialisation d'un second tableau\n",
    "    tab2=[]\n",
    "    #creation d'une boucle for \n",
    "    for i in range(len(tab)):\n",
    "        #affectation dans tab2 les relations sans ponctuation \n",
    "        tab2.append(tab[i].strip().split(';'))\n",
    "    #fermeture du fichier f\n",
    "    f.close\n",
    "    return tab2\n",
    "\n",
    "#affichage\n",
    "print(lecture_reseau(\"files/Communaute2.csv\"))\n",
    "\n"
   ]
  },
  {
   "cell_type": "markdown",
   "metadata": {
    "deletable": false,
    "editable": false,
    "run_control": {
     "frozen": true
    }
   },
   "source": [
    "#### Question  4 :  Données d'un réseau dupliquées dans un fichier\n",
    "On suppose toujours que les données sur un réseau social sont stockées dans un fichier CSV mais certaines lignes du fichier contiennent les mêmes informations.  \n",
    "\n",
    "**NB** : Quatre fichiers CSV de ce type sont fournis dans le répertoire `filesbis/`, il s'agit des fichiers`Communaute1bis.csv`, `Communaute2bis.csv`,`Communaute3bis.csv` et `Communaute4bis.csv`. \n",
    "Il est recommandé d'en fabriquer d'autres. \n",
    "\n",
    "- Ecrire une fonction `lecture_reseau_bis(path)` prenant en paramètre un chemin vers un tel fichier CSV et retournant un tableau modélisant les interactions entre les personnes du fichier en éliminant les répétitions."
   ]
  },
  {
   "cell_type": "code",
   "execution_count": 68,
   "metadata": {},
   "outputs": [
    {
     "data": {
      "text/plain": [
       "[['Giedrius', 'Mady'],\n",
       " ['Kirsa', 'Vittore'],\n",
       " ['Barbra', 'Faizel'],\n",
       " ['Vittorio', 'Vittore'],\n",
       " ['Louis', 'Placide'],\n",
       " ['Vittorio', 'Barbra'],\n",
       " ['Cloe', 'Björn'],\n",
       " ['Vittore', 'Barbra'],\n",
       " ['Mady', 'Rufino'],\n",
       " ['Cloe', 'Vittorio'],\n",
       " ['Vittorio', 'Placide'],\n",
       " ['Olavi', 'Rufino'],\n",
       " ['Vittore', 'Cloe'],\n",
       " ['Teodor', 'Cloe'],\n",
       " ['Louis', 'Cloe'],\n",
       " ['Idelle', 'Mady'],\n",
       " ['Illtyd', 'Giedrius'],\n",
       " ['Teodor', 'Olavi'],\n",
       " ['Vittore', 'Mady'],\n",
       " ['Rufino', 'Giedrius'],\n",
       " ['Placide', 'Louis'],\n",
       " ['Louis', 'Vittorio'],\n",
       " ['Giedrius', 'Glenys'],\n",
       " ['Björn', 'Olavi'],\n",
       " ['Faizel', 'Placide'],\n",
       " ['Rufino', 'Illtyd'],\n",
       " ['Kirsa', 'Vittorio'],\n",
       " ['Mady', 'Placide'],\n",
       " ['Illtyd', 'Olavi'],\n",
       " ['Cloe', 'Mady'],\n",
       " ['Rufino', 'Vittorio'],\n",
       " ['Placide', 'Rufino'],\n",
       " ['Giedrius', 'Illtyd'],\n",
       " ['Rufino', 'Teodor'],\n",
       " ['Placide', 'Jakob'],\n",
       " ['Barbra', 'Kirsa'],\n",
       " ['Idelle', 'Cloe'],\n",
       " ['Rufino', 'Faizel'],\n",
       " ['Rufino', 'Louis'],\n",
       " ['Björn', 'Cloe'],\n",
       " ['Vittorio', 'Olavi'],\n",
       " ['Vittorio', 'Mady'],\n",
       " ['Glenys', 'Cloe'],\n",
       " ['Björn', 'Idelle'],\n",
       " ['Mady', 'Björn'],\n",
       " ['Barbra', 'Vittorio'],\n",
       " ['Louis', 'Björn'],\n",
       " ['Mady', 'Vittorio'],\n",
       " ['Olavi', 'Barbra'],\n",
       " ['Björn', 'Giedrius'],\n",
       " ['Faizel', 'Barbra'],\n",
       " ['Marwa', 'Idelle'],\n",
       " ['Placide', 'Olavi'],\n",
       " ['Olavi', 'Placide'],\n",
       " ['Cain', 'Vittorio'],\n",
       " ['Jakob', 'Kirsa'],\n",
       " ['Barbra', 'Marwa'],\n",
       " ['Vittorio', 'Louis'],\n",
       " ['Idelle', 'Illtyd'],\n",
       " ['Louis', 'Giedrius'],\n",
       " ['Mady', 'Barbra'],\n",
       " ['Barbra', 'Rufino'],\n",
       " ['Cloe', 'Barbra'],\n",
       " ['Rufino', 'Björn'],\n",
       " ['Björn', 'Faizel'],\n",
       " ['Cloe', 'Vittore'],\n",
       " ['Vittore', 'Björn'],\n",
       " ['Björn', 'Teodor'],\n",
       " ['Louis', 'Rufino'],\n",
       " ['Olavi', 'Teodor'],\n",
       " ['Teodor', 'Mady'],\n",
       " ['Faizel', 'Olavi'],\n",
       " ['Cloe', 'Idelle'],\n",
       " ['Barbra', 'Louis'],\n",
       " ['Barbra', 'Vittore'],\n",
       " ['Giedrius', 'Vittorio'],\n",
       " ['Placide', 'Cain'],\n",
       " ['Vittore', 'Louis'],\n",
       " ['Mady', 'Jakob'],\n",
       " ['Björn', 'Mady'],\n",
       " ['Placide', 'Cloe'],\n",
       " ['Illtyd', 'Rufino'],\n",
       " ['Olavi', 'Louis']]"
      ]
     },
     "execution_count": 68,
     "metadata": {},
     "output_type": "execute_result"
    }
   ],
   "source": [
    "\"\"\"\n",
    "Argument:\n",
    "    path: str\n",
    "retourne:\n",
    "    tab2:list\n",
    "\"\"\"\n",
    "#creation d'une fonction lecture_reseau_bis prenant en parametre \"path\" (chemin du fichier csv)\n",
    "def lecture_reseau_bis(path):\n",
    "    #ouverture du fichier\n",
    "    f = open(path,'r',encoding ='utf-8')\n",
    "    #creation d'un tableau à partir du fichier csv\n",
    "    tab_temp = f.readlines()\n",
    "    #iniatialisation de tab\n",
    "    tab=[]\n",
    "    #boucle for permettant d'ajouter dans tab le tableau tab_temp sans la ponctuation csv \n",
    "    for i in range(len(tab_temp)):\n",
    "        tab.append(tab_temp[i].strip().split(';'))\n",
    "    #iniatialisation de tab2\n",
    "    tab2 = [] \n",
    "    #boucle qui permet d'éviter les doublons dans tab2\n",
    "    for prenom in tab:\n",
    "        if prenom not in tab2:\n",
    "            tab2.append(prenom) \n",
    "    #fermeture du fichier  \n",
    "    f.close\n",
    "    #retourne le tableau trié \n",
    "    return tab2\n",
    "\n",
    "lecture_reseau_bis(\"filesbis/Communaute1bis.csv\")\n",
    "    \n"
   ]
  },
  {
   "cell_type": "markdown",
   "metadata": {
    "deletable": false,
    "editable": false,
    "run_control": {
     "frozen": true
    }
   },
   "source": [
    "#### Question 5 : Modélisation d'un réseau par un dictionnaire\n",
    "On préfère pour la suite, utiliser une modélisation du réseau social par un dictionnaire dont les clés sont les prénoms des personnes du réseau et la valeur associé à une clé est le tableau des amis de la personne indiquée par la clé.\n",
    "\n",
    "- A partir d'un tableau `amis` modélisant les interactions entre personnes d'un réseau, écrire une fonction `dico_reseau(amis)` qui retourne un dictionnaire dont les clés sont les prénoms des membres du réseau et les valeurs le tableau de leurs amis."
   ]
  },
  {
   "cell_type": "code",
   "execution_count": 73,
   "metadata": {},
   "outputs": [
    {
     "name": "stdout",
     "output_type": "stream",
     "text": [
      "{'Muriel': ['Yasmine', 'Joël'], 'Yasmine': ['Muriel', 'Joël', 'Thomas'], 'Joël': ['Yasmine', 'Muriel', 'Nassim', 'Andrea', 'Ali'], 'Thomas': ['Yasmine', 'Daria', 'Carole'], 'Nassim': ['Joël', 'Andrea', 'Ali'], 'Andrea': ['Joël', 'Nassim', 'Ali', 'Valentin'], 'Ali': ['Joël', 'Nassim', 'Andrea'], 'Daria': ['Thomas', 'Carole'], 'Carole': ['Thomas', 'Daria'], 'Thierry': ['Axel', 'Léo'], 'Axel': ['Thierry', 'Léo'], 'Léo': ['Thierry', 'Axel', 'Valentin'], 'Valentin': ['Léo', 'Andrea']}\n"
     ]
    }
   ],
   "source": [
    "\"\"\"\n",
    "Argument:\n",
    "    amis:list\n",
    "retourne:\n",
    "    dico: dict\n",
    "\"\"\"\n",
    "#creation d'une fonction \"dico_reseau\" qui prend en parametre amis\n",
    "def dico_reseau(amis):\n",
    "    #creation d'un dictionnaire dico\n",
    "    dico= {}\n",
    "    #boucle while, creation des variable prenom et ami \n",
    "    i=0\n",
    "    while i < len(amis):\n",
    "        prenom = amis[i]\n",
    "        ami= amis[i+1]\n",
    "    #condition si prenom n'est pas dans le dictionnaire, on creer une clef prenom ayant comme valeur un tableau vide    \n",
    "        if prenom not in dico:\n",
    "            dico[prenom] = []\n",
    "   #condition si ami n'est pas dans le dictionnaire, on creer une clef prenom ayant comme valeur un tableau vide     \n",
    "        if ami not in dico:\n",
    "            dico[ami] = []\n",
    "    #on ajoute alors aux valeurs l'ami ou le prenom  \n",
    "        dico[prenom].append(ami)\n",
    "        dico[ami].append(prenom)\n",
    "        i = i+2\n",
    "    #on retourn le dictionnaire dont les clef sont les prénoms des membres du réseau et les valeurs le tableau de leurs amis.\n",
    "    return dico\n",
    "#affichage \n",
    "print(dico_reseau(p_amis))\n"
   ]
  },
  {
   "cell_type": "markdown",
   "metadata": {},
   "source": [
    "#### Question 6 : Nombre d'amis des personnes les plus populaires\n",
    "- A partir d'un dictionnaire `dico_reseau` modélisant les interactions dans un réseau d'amis, écrire une fonction `nb_amis_plus_pop (dico_reseau)` qui retourne le nombre d'amis des personnes les plus populaires du réseau."
   ]
  },
  {
   "cell_type": "code",
   "execution_count": 87,
   "metadata": {},
   "outputs": [
    {
     "name": "stdout",
     "output_type": "stream",
     "text": [
      "5\n"
     ]
    }
   ],
   "source": [
    "\"\"\"\n",
    "Argument:\n",
    "    dico_reseau: dict\n",
    "retourne:\n",
    "    populaire: int\n",
    "\"\"\"\n",
    "#Creation d'une fonction nb_amis_plus_pop prenant en paramètre \"dico_reseau\"\n",
    "def nb_amis_plus_pop(dico_reseau):\n",
    "    #iniatialisation d'une variable populaire \n",
    "    populaire = 0\n",
    "    #boucle for qui parcourt dico_reseau \n",
    "    for ami in dico_reseau:\n",
    "        amis = len(dico_reseau[ami])\n",
    "        #condition afin de determiner qui est le plus populaire\n",
    "        if amis > populaire:\n",
    "            populaire = amis\n",
    "    #retourne le prenom le plus populaires\n",
    "    return populaire\n",
    "\n",
    "#affichage\n",
    "print(nb_amis_plus_pop(dico_reseau(p_amis)))\n",
    "\n",
    "def test_nb_amis_plus_pop():\n",
    "    assert nb_amis_plus_pop(dico_reseau) == 5\n",
    "    assert nb_amis_plus_pop(dico_reseau) !=4\n",
    "    \n",
    "\n",
    "\n"
   ]
  },
  {
   "cell_type": "markdown",
   "metadata": {
    "deletable": false,
    "editable": false,
    "run_control": {
     "frozen": true
    }
   },
   "source": [
    "#### Question 7 : Personnes les plus populaires\n",
    "\n",
    "- A partir d'un dictionnaire `dico_reseau` modélisant les interactions dans un réseau d'amis, écrire une fonction `les_plus_pop (dico_reseau)` qui retourne un tableau contenant les prénoms de toutes les personnes les plus populaires du réseau."
   ]
  },
  {
   "cell_type": "code",
   "execution_count": 71,
   "metadata": {},
   "outputs": [
    {
     "data": {
      "text/plain": [
       "['Joël']"
      ]
     },
     "execution_count": 71,
     "metadata": {},
     "output_type": "execute_result"
    }
   ],
   "source": [
    "\"\"\"\n",
    "Argument:\n",
    "    dico_reseau: dict\n",
    "retourne:\n",
    "    ami: list\n",
    "\"\"\"\n",
    "#on defini la fonction \"les_plus_pop\" prenant en parametre dico_reseau\n",
    "def les_plus_pop(dico_reseau):\n",
    "    #iniatialisation d'un tableau ami\n",
    "    ami = []\n",
    "    #affectation à la variable le nombre d'amis le plus populaire grace à la fonction de l'exercice precedent\n",
    "    amis = nb_amis_plus_pop(dico_reseau)\n",
    "    #boucle for qui parcourt dico_reseau\n",
    "    for noms in dico_reseau:\n",
    "        #condition si la taille du tableau de chaque personne est égale à amis alors on ajoute noms dans ami\n",
    "        if len(dico_reseau[noms]) == amis:\n",
    "            ami.append(noms)\n",
    "    #on retourne ami\n",
    "    return ami\n",
    "#appelle de la fonction \n",
    "les_plus_pop(dico_reseau(p_amis))\n",
    "\n"
   ]
  }
 ],
 "metadata": {
  "kernelspec": {
   "display_name": "Python 3 (ipykernel)",
   "language": "python",
   "name": "python3"
  },
  "language_info": {
   "codemirror_mode": {
    "name": "ipython",
    "version": 3
   },
   "file_extension": ".py",
   "mimetype": "text/x-python",
   "name": "python",
   "nbconvert_exporter": "python",
   "pygments_lexer": "ipython3",
   "version": "3.12.3"
  },
  "latex_envs": {
   "LaTeX_envs_menu_present": true,
   "autoclose": false,
   "autocomplete": true,
   "bibliofile": "biblio.bib",
   "cite_by": "apalike",
   "current_citInitial": 1,
   "eqLabelWithNumbers": true,
   "eqNumInitial": 1,
   "hotkeys": {
    "equation": "Ctrl-E",
    "itemize": "Ctrl-I"
   },
   "labels_anchors": false,
   "latex_user_defs": false,
   "report_style_numbering": false,
   "user_envs_cfg": false
  }
 },
 "nbformat": 4,
 "nbformat_minor": 2
}
